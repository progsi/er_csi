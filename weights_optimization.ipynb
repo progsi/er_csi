{
 "cells": [
  {
   "cell_type": "code",
   "execution_count": 2,
   "metadata": {},
   "outputs": [
    {
     "name": "stderr",
     "output_type": "stream",
     "text": [
      "/data/miniconda3/envs/torch21/lib/python3.11/site-packages/tqdm/auto.py:21: TqdmWarning: IProgress not found. Please update jupyter and ipywidgets. See https://ipywidgets.readthedocs.io/en/stable/user_install.html\n",
      "  from .autonotebook import tqdm as notebook_tqdm\n"
     ]
    }
   ],
   "source": [
    "import torch\n",
    "import scipy\n",
    "from torchmetrics.retrieval import RetrievalNormalizedDCG, RetrievalMAP\n",
    "from src.dataset import TestDataset, OnlineCoverSongDataset\n",
    "from src.evaluation import RetrievalEvaluation\n",
    "from src.baselines.blocking import Blocker\n",
    "from rapidfuzz import fuzz\n",
    "\n",
    "\n",
    "mAP = RetrievalMAP(empty_target_action=\"skip\")\n",
    "\n",
    "\n",
    "fuzzy_valset = TestDataset(\n",
    "        \"shs100k2_val\",\n",
    "        \"/data/csi_datasets/\",\n",
    "        \"/data/yt_metadata.parquet\",\n",
    "        tokenizer=\"roberta-base\"\n",
    "        )\n",
    "\n"
   ]
  },
  {
   "cell_type": "markdown",
   "metadata": {},
   "source": [
    "# Fuzzy Matching"
   ]
  },
  {
   "cell_type": "code",
   "execution_count": 2,
   "metadata": {},
   "outputs": [],
   "source": [
    "# get audio preds\n",
    "audio_preds = fuzzy_valset.get_csi_pred_matrix(\"coverhunter\").to(\"cuda\")\n",
    "\n",
    "\n",
    "# get text preds\n",
    "blocker = Blocker(blocking_func=fuzz.token_ratio, threshold=0.5)\n",
    "left_df, right_df = fuzzy_valset.get_dfs_by_task(\"svShort\")\n",
    "text_preds = blocker.predict(left_df, right_df).to(\"cuda\")\n",
    "text_preds = text_preds.fill_diagonal_(-float('inf')) / 100\n",
    "text_preds\n",
    "\n",
    "# get ground truth\n",
    "Y = fuzzy_valset.get_target_matrix().to(float).to(\"cuda\")\n",
    "\n",
    "m, n = Y.shape\n",
    "indexes = torch.arange(m).view(-1, 1).expand(-1, n).to(\"cuda\")\n"
   ]
  },
  {
   "cell_type": "markdown",
   "metadata": {},
   "source": [
    "## Grid Search"
   ]
  },
  {
   "cell_type": "code",
   "execution_count": 6,
   "metadata": {},
   "outputs": [
    {
     "ename": "RuntimeError",
     "evalue": "The size of tensor a (8619) must match the size of tensor b (8819) at non-singleton dimension 1",
     "output_type": "error",
     "traceback": [
      "\u001b[0;31m---------------------------------------------------------------------------\u001b[0m",
      "\u001b[0;31mRuntimeError\u001b[0m                              Traceback (most recent call last)",
      "Cell \u001b[0;32mIn[6], line 7\u001b[0m\n\u001b[1;32m      4\u001b[0m     \u001b[38;5;28;01mreturn\u001b[39;00m (w1 \u001b[38;5;241m*\u001b[39m x1 \u001b[38;5;241m+\u001b[39m (\u001b[38;5;241m1\u001b[39m \u001b[38;5;241m-\u001b[39m w1) \u001b[38;5;241m*\u001b[39m x2)\n\u001b[1;32m      6\u001b[0m \u001b[38;5;28;01mfor\u001b[39;00m i \u001b[38;5;129;01min\u001b[39;00m np\u001b[38;5;241m.\u001b[39marange(\u001b[38;5;241m0.1\u001b[39m, \u001b[38;5;241m1\u001b[39m, \u001b[38;5;241m0.1\u001b[39m):\n\u001b[0;32m----> 7\u001b[0m     preds \u001b[38;5;241m=\u001b[39m \u001b[43mpredict\u001b[49m\u001b[43m(\u001b[49m\u001b[43mtext_preds\u001b[49m\u001b[43m,\u001b[49m\u001b[43m \u001b[49m\u001b[43maudio_preds\u001b[49m\u001b[43m,\u001b[49m\u001b[43m \u001b[49m\u001b[43mi\u001b[49m\u001b[43m)\u001b[49m\n\u001b[1;32m      8\u001b[0m     map_result \u001b[38;5;241m=\u001b[39m mAP(preds, Y, indexes)\n\u001b[1;32m      9\u001b[0m     \u001b[38;5;28mprint\u001b[39m(\u001b[38;5;124mf\u001b[39m\u001b[38;5;124m\"\u001b[39m\u001b[38;5;124mMAP: \u001b[39m\u001b[38;5;132;01m{\u001b[39;00mmap_result\u001b[38;5;132;01m}\u001b[39;00m\u001b[38;5;124m for text weight of \u001b[39m\u001b[38;5;132;01m{\u001b[39;00mi\u001b[38;5;132;01m}\u001b[39;00m\u001b[38;5;124m\"\u001b[39m)\n",
      "Cell \u001b[0;32mIn[6], line 4\u001b[0m, in \u001b[0;36mpredict\u001b[0;34m(x1, x2, w1)\u001b[0m\n\u001b[1;32m      3\u001b[0m \u001b[38;5;28;01mdef\u001b[39;00m \u001b[38;5;21mpredict\u001b[39m(x1,x2, w1):\n\u001b[0;32m----> 4\u001b[0m     \u001b[38;5;28;01mreturn\u001b[39;00m (\u001b[43mw1\u001b[49m\u001b[43m \u001b[49m\u001b[38;5;241;43m*\u001b[39;49m\u001b[43m \u001b[49m\u001b[43mx1\u001b[49m\u001b[43m \u001b[49m\u001b[38;5;241;43m+\u001b[39;49m\u001b[43m \u001b[49m\u001b[43m(\u001b[49m\u001b[38;5;241;43m1\u001b[39;49m\u001b[43m \u001b[49m\u001b[38;5;241;43m-\u001b[39;49m\u001b[43m \u001b[49m\u001b[43mw1\u001b[49m\u001b[43m)\u001b[49m\u001b[43m \u001b[49m\u001b[38;5;241;43m*\u001b[39;49m\u001b[43m \u001b[49m\u001b[43mx2\u001b[49m)\n",
      "\u001b[0;31mRuntimeError\u001b[0m: The size of tensor a (8619) must match the size of tensor b (8819) at non-singleton dimension 1"
     ]
    }
   ],
   "source": [
    "import numpy as np\n",
    "\n",
    "def predict(x1,x2, w1):\n",
    "    return (w1 * x1 + (1 - w1) * x2)\n",
    "\n",
    "for i in np.arange(0.1, 1, 0.1):\n",
    "    preds = predict(text_preds, audio_preds, i)\n",
    "    map_result = mAP(preds, Y, indexes)\n",
    "    print(f\"MAP: {map_result} for text weight of {i}\")\n"
   ]
  },
  {
   "cell_type": "markdown",
   "metadata": {},
   "source": [
    "# S-BERT"
   ]
  },
  {
   "cell_type": "code",
   "execution_count": 8,
   "metadata": {},
   "outputs": [],
   "source": [
    "sbert_valset = OnlineCoverSongDataset(\n",
    "        \"shs100k2_test\",\n",
    "        \"/data/csi_datasets/\",\n",
    "        \"/data/yt_metadata.parquet\",\n",
    "        \"tvShort\"\n",
    ")  \n",
    "\n",
    "\n",
    "# get audio preds\n",
    "audio_preds = sbert_valset.get_csi_pred_matrix(\"coverhunter\").to(\"cuda\")\n",
    "\n",
    "\n",
    "# get text preds\n",
    "text_preds = torch.load(\"preds/sentence-transformers/shs100k2_test/preds.pt\")\n",
    "text_preds = text_preds.fill_diagonal_(-float('inf')) / 100\n",
    "text_preds\n",
    "\n",
    "# get ground truth\n",
    "Y = sbert_valset.get_target_matrix().to(float).to(\"cuda\")\n",
    "\n",
    "m, n = Y.shape\n",
    "indexes = torch.arange(m).view(-1, 1).expand(-1, n).to(\"cuda\")\n",
    "\n"
   ]
  },
  {
   "cell_type": "code",
   "execution_count": 10,
   "metadata": {},
   "outputs": [
    {
     "name": "stdout",
     "output_type": "stream",
     "text": [
      "MAP: 0.9231217503547668 for text weight of 0.1\n",
      "MAP: 0.9243493676185608 for text weight of 0.2\n",
      "MAP: 0.9255906343460083 for text weight of 0.30000000000000004\n",
      "MAP: 0.9273486733436584 for text weight of 0.4\n",
      "MAP: 0.9295580387115479 for text weight of 0.5\n",
      "MAP: 0.9328274130821228 for text weight of 0.6\n",
      "MAP: 0.9377639293670654 for text weight of 0.7000000000000001\n",
      "MAP: 0.9464327096939087 for text weight of 0.8\n",
      "MAP: 0.9627877473831177 for text weight of 0.9\n"
     ]
    }
   ],
   "source": [
    "\n",
    "for i in np.arange(0.1, 1, 0.05):\n",
    "    preds = predict(text_preds, audio_preds, i)\n",
    "    map_result = mAP(preds, Y, indexes)\n",
    "    print(f\"MAP: {map_result} for text weight of {i}\")\n",
    "    "
   ]
  },
  {
   "cell_type": "code",
   "execution_count": null,
   "metadata": {},
   "outputs": [],
   "source": []
  }
 ],
 "metadata": {
  "kernelspec": {
   "display_name": "torch21",
   "language": "python",
   "name": "python3"
  },
  "language_info": {
   "codemirror_mode": {
    "name": "ipython",
    "version": 3
   },
   "file_extension": ".py",
   "mimetype": "text/x-python",
   "name": "python",
   "nbconvert_exporter": "python",
   "pygments_lexer": "ipython3",
   "version": "3.11.5"
  }
 },
 "nbformat": 4,
 "nbformat_minor": 2
}
