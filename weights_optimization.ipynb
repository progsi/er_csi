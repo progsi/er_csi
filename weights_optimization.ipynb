{
 "cells": [
  {
   "cell_type": "code",
   "execution_count": 19,
   "metadata": {},
   "outputs": [],
   "source": [
    "import torch\n",
    "import scipy\n",
    "from torchmetrics.retrieval import RetrievalNormalizedDCG, RetrievalMAP\n",
    "from src.dataset import TestDataset, OnlineCoverSongDataset\n",
    "from src.evaluation import RetrievalEvaluation\n",
    "from src.baselines.blocking import Blocker\n",
    "from rapidfuzz import fuzz\n",
    "\n",
    "\n",
    "mAP = RetrievalMAP(empty_target_action=\"skip\")\n",
    "\n",
    "\n",
    "fuzzy_valset = TestDataset(\n",
    "        \"shs100k2_val\",\n",
    "        \"/data/csi_datasets/\",\n",
    "        \"/data/yt_metadata.parquet\",\n",
    "        tokenizer=\"roberta-base\"\n",
    "        )\n",
    "\n"
   ]
  },
  {
   "cell_type": "markdown",
   "metadata": {},
   "source": [
    "# Fuzzy Matching"
   ]
  },
  {
   "cell_type": "code",
   "execution_count": 20,
   "metadata": {},
   "outputs": [],
   "source": [
    "# get audio preds\n",
    "audio_preds = fuzzy_valset.get_csi_pred_matrix(\"coverhunter\").to(\"cuda\")\n",
    "\n",
    "\n",
    "# get text preds\n",
    "blocker = Blocker(blocking_func=fuzz.token_ratio, threshold=0.5)\n",
    "left_df, right_df = fuzzy_valset.get_dfs_by_task(\"svShort\")\n",
    "text_preds = blocker.predict(left_df, right_df).to(\"cuda\")\n",
    "text_preds = text_preds.fill_diagonal_(-float('inf')) / 100\n",
    "text_preds\n",
    "\n",
    "# get ground truth\n",
    "Y = fuzzy_valset.get_target_matrix().to(float).to(\"cuda\")\n",
    "\n",
    "m, n = Y.shape\n",
    "indexes = torch.arange(m).view(-1, 1).expand(-1, n).to(\"cuda\")\n"
   ]
  },
  {
   "cell_type": "markdown",
   "metadata": {},
   "source": [
    "## Grid Search"
   ]
  },
  {
   "cell_type": "code",
   "execution_count": 21,
   "metadata": {},
   "outputs": [
    {
     "name": "stdout",
     "output_type": "stream",
     "text": [
      "MAP: 0.6257272958755493 for text weight of 0.1\n",
      "MAP: 0.6896862387657166 for text weight of 0.2\n",
      "MAP: 0.7650094628334045 for text weight of 0.30000000000000004\n",
      "MAP: 0.8439185619354248 for text weight of 0.4\n",
      "MAP: 0.9097827672958374 for text weight of 0.5\n",
      "MAP: 0.9489179849624634 for text weight of 0.6\n",
      "MAP: 0.9662358164787292 for text weight of 0.7000000000000001\n",
      "MAP: 0.968373715877533 for text weight of 0.8\n",
      "MAP: 0.9598760008811951 for text weight of 0.9\n"
     ]
    }
   ],
   "source": [
    "import numpy as np\n",
    "\n",
    "def predict(x1,x2, w2):\n",
    "    return ((1 - w2) * x1 + w2 * x2)\n",
    "\n",
    "for i in np.arange(0.1, 1, 0.1):\n",
    "    preds = predict(text_preds, audio_preds, i)\n",
    "    map_result = mAP(preds, Y, indexes)\n",
    "    print(f\"MAP: {map_result} for audio weight of {i}\")\n"
   ]
  },
  {
   "cell_type": "markdown",
   "metadata": {},
   "source": [
    "# S-BERT"
   ]
  },
  {
   "cell_type": "code",
   "execution_count": 38,
   "metadata": {},
   "outputs": [],
   "source": [
    "dataset_name = \"shs100k2_val\"\n",
    "sbert_valset = OnlineCoverSongDataset(\n",
    "        dataset_name,\n",
    "        \"/data/csi_datasets/\",\n",
    "        \"/data/yt_metadata.parquet\",\n",
    "        \"tvShort\"\n",
    ")  \n",
    "\n",
    "\n",
    "# get audio preds\n",
    "audio_preds = sbert_valset.get_csi_pred_matrix(\"coverhunter\").to(\"cuda\")\n",
    "\n",
    "\n",
    "# get text preds\n",
    "text_preds = torch.load(f\"preds/sentence-transformers/{dataset_name}/preds.pt\")\n",
    "text_preds = text_preds.fill_diagonal_(0)\n",
    "text_preds\n",
    "\n",
    "# get ground truth\n",
    "Y = sbert_valset.get_target_matrix().to(float).to(\"cuda\")\n",
    "\n",
    "m, n = Y.shape\n",
    "indexes = torch.arange(m).view(-1, 1).expand(-1, n).to(\"cuda\")\n",
    "\n"
   ]
  },
  {
   "cell_type": "code",
   "execution_count": 39,
   "metadata": {},
   "outputs": [
    {
     "name": "stdout",
     "output_type": "stream",
     "text": [
      "MAP: 0.824760913848877 for audio weight of 0.1\n",
      "MAP: 0.8403883576393127 for audio weight of 0.2\n",
      "MAP: 0.8586575984954834 for audio weight of 0.30000000000000004\n",
      "MAP: 0.8782891035079956 for audio weight of 0.4\n",
      "MAP: 0.9014644026756287 for audio weight of 0.5\n",
      "MAP: 0.9287620186805725 for audio weight of 0.6\n",
      "MAP: 0.9586793780326843 for audio weight of 0.7000000000000001\n",
      "MAP: 0.9774288535118103 for audio weight of 0.8\n",
      "MAP: 0.9749596118927002 for audio weight of 0.9\n"
     ]
    }
   ],
   "source": [
    "for i in np.arange(0.1, 1, 0.1):\n",
    "    preds = predict(text_preds, audio_preds, i)\n",
    "    map_result = mAP(preds, Y, indexes)\n",
    "    print(f\"MAP: {map_result} for audio weight of {i}\")\n",
    "\n"
   ]
  },
  {
   "cell_type": "code",
   "execution_count": null,
   "metadata": {},
   "outputs": [],
   "source": []
  }
 ],
 "metadata": {
  "kernelspec": {
   "display_name": "torch21",
   "language": "python",
   "name": "python3"
  },
  "language_info": {
   "codemirror_mode": {
    "name": "ipython",
    "version": 3
   },
   "file_extension": ".py",
   "mimetype": "text/x-python",
   "name": "python",
   "nbconvert_exporter": "python",
   "pygments_lexer": "ipython3",
   "version": "3.11.5"
  }
 },
 "nbformat": 4,
 "nbformat_minor": 2
}
