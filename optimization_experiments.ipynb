{
 "cells": [
  {
   "cell_type": "code",
   "execution_count": 1,
   "metadata": {},
   "outputs": [
    {
     "name": "stderr",
     "output_type": "stream",
     "text": [
      "/data/miniconda3/envs/torch21/lib/python3.11/site-packages/tqdm/auto.py:21: TqdmWarning: IProgress not found. Please update jupyter and ipywidgets. See https://ipywidgets.readthedocs.io/en/stable/user_install.html\n",
      "  from .autonotebook import tqdm as notebook_tqdm\n"
     ]
    }
   ],
   "source": [
    "import torch\n",
    "import scipy\n",
    "from torchmetrics.retrieval import RetrievalNormalizedDCG, RetrievalMAP\n",
    "from src.dataset import TestDataset, OnlineCoverSongDataset\n",
    "from src.evaluation import RetrievalEvaluation\n",
    "from src.baselines.blocking import Blocker\n",
    "from rapidfuzz import fuzz\n",
    "\n",
    "mAP = RetrievalMAP(empty_target_action=\"skip\")\n",
    "\n",
    "fuzzy_valset = TestDataset(\n",
    "        \"shs100k2_val\",\n",
    "        \"/data/csi_datasets/\",\n",
    "        \"/data/yt_metadata.parquet\",\n",
    "        tokenizer=\"roberta-base\"\n",
    "        )\n"
   ]
  },
  {
   "cell_type": "code",
   "execution_count": 2,
   "metadata": {},
   "outputs": [],
   "source": [
    "fuzzy_valset = TestDataset(\n",
    "        \"shs100k2_test\",\n",
    "        \"/data/csi_datasets/\",\n",
    "        \"/data/yt_metadata.parquet\",\n",
    "        tokenizer=\"roberta-base\"\n",
    "        )\n",
    "\n"
   ]
  },
  {
   "cell_type": "code",
   "execution_count": 10,
   "metadata": {},
   "outputs": [
    {
     "data": {
      "text/plain": [
       "tensor(5)"
      ]
     },
     "execution_count": 10,
     "metadata": {},
     "output_type": "execute_result"
    }
   ],
   "source": [
    "torch.sum(fuzzy_valset.get_target_matrix(), dim=1)\n"
   ]
  },
  {
   "cell_type": "markdown",
   "metadata": {},
   "source": [
    "# Fuzzy Matching"
   ]
  },
  {
   "cell_type": "code",
   "execution_count": 3,
   "metadata": {},
   "outputs": [],
   "source": [
    "# get audio preds\n",
    "audio_preds = fuzzy_valset.get_csi_pred_matrix(\"coverhunter\").to(\"cuda\")\n",
    "\n",
    "# get text preds\n",
    "blocker = Blocker(blocking_func=fuzz.token_ratio, threshold=0.5)\n",
    "left_df, right_df = fuzzy_valset.get_dfs_by_task(\"svShort\")\n",
    "text_preds = blocker.predict(left_df, right_df).to(\"cuda\")\n",
    "text_preds = text_preds.fill_diagonal_(-float('inf')) / 100\n",
    "text_preds\n",
    "\n",
    "# get ground truth\n",
    "Y = fuzzy_valset.get_target_matrix().to(float).to(\"cuda\")\n",
    "\n",
    "m, n = Y.shape\n",
    "indexes = torch.arange(m).view(-1, 1).expand(-1, n).to(\"cuda\")\n"
   ]
  },
  {
   "cell_type": "markdown",
   "metadata": {},
   "source": [
    "## Grid Search"
   ]
  },
  {
   "cell_type": "code",
   "execution_count": 4,
   "metadata": {},
   "outputs": [
    {
     "name": "stdout",
     "output_type": "stream",
     "text": [
      "MAP: 0.6257272958755493 for audio weight of 0.1\n",
      "MAP: 0.6896862387657166 for audio weight of 0.2\n",
      "MAP: 0.7650094628334045 for audio weight of 0.30000000000000004\n",
      "MAP: 0.8439185619354248 for audio weight of 0.4\n",
      "MAP: 0.9097827672958374 for audio weight of 0.5\n",
      "MAP: 0.9489179849624634 for audio weight of 0.6\n",
      "MAP: 0.9662358164787292 for audio weight of 0.7000000000000001\n",
      "MAP: 0.968373715877533 for audio weight of 0.8\n",
      "MAP: 0.9598760008811951 for audio weight of 0.9\n"
     ]
    }
   ],
   "source": [
    "import numpy as np\n",
    "\n",
    "def predict(x1,x2, w2):\n",
    "    return ((1 - w2) * x1 + w2 * x2)\n",
    "\n",
    "for i in np.arange(0.1, 1, 0.1):\n",
    "    preds = predict(text_preds, audio_preds, i)\n",
    "    map_result = mAP(preds, Y, indexes)\n",
    "    print(f\"MAP: {map_result} for audio weight of {i}\")\n"
   ]
  },
  {
   "cell_type": "markdown",
   "metadata": {},
   "source": [
    "### Linear Programming"
   ]
  },
  {
   "cell_type": "code",
   "execution_count": 5,
   "metadata": {},
   "outputs": [
    {
     "name": "stdout",
     "output_type": "stream",
     "text": [
      "Intermediate mAP: 0.968373715877533, weights: [0.2 0.8]\n",
      "Intermediate mAP: 0.968373715877533, weights: [0.20000001 0.8       ]\n",
      "Intermediate mAP: 0.968373715877533, weights: [0.2        0.80000001]\n",
      "Optimized Weights: [0.2 0.8]\n",
      "Optimized mAP: tensor(0.9684)\n"
     ]
    }
   ],
   "source": [
    "from scipy.optimize import minimize, linprog\n",
    "\n",
    "def mAP_combined(weights, text_preds, audio_preds, Y, index):\n",
    "    combined_preds = weights[0] * text_preds + weights[1] * audio_preds\n",
    "    result = mAP(torch.tensor(combined_preds).cpu(), Y.cpu(), index.cpu())\n",
    "    print(f\"Intermediate mAP: {result}, weights: {weights}\")\n",
    "    return -result\n",
    "\n",
    "# Initial weights (sum of weights should be 1)\n",
    "initial_weights = [0.2, 0.8]\n",
    "\n",
    "# Optimization bounds for weights (between 0 and 1)\n",
    "bnd = [(0, 1), (0, 1)]\n",
    "\n",
    "# Optimization\n",
    "preds_a = torch.where(text_preds == float('-inf'), 0, text_preds).cpu().numpy()\n",
    "preds_b = torch.where(audio_preds == float('-inf'), 0, audio_preds).cpu().numpy()\n",
    "\n",
    "result = minimize(mAP_combined, initial_weights, args=(preds_a, preds_b, Y, indexes), bounds=bnd, method=\"SLSQP\")\n",
    "\n",
    "# optimized data\n",
    "optimized_weights = result.x\n",
    "optimized_combined_preds = optimized_weights[0] * preds_a + optimized_weights[1] * preds_b\n",
    "optimized_map = mAP(torch.tensor(optimized_combined_preds).cpu(), Y.cpu(), indexes.cpu())\n",
    "\n",
    "print(\"Optimized Weights:\", optimized_weights)\n",
    "print(\"Optimized mAP:\", optimized_map)\n"
   ]
  },
  {
   "cell_type": "markdown",
   "metadata": {},
   "source": [
    "### Method from Wu, \"Adapting boosting for information retrieval measures\""
   ]
  },
  {
   "cell_type": "code",
   "execution_count": 6,
   "metadata": {},
   "outputs": [
    {
     "name": "stdout",
     "output_type": "stream",
     "text": [
      "MAP: 0.36789849400520325 for audio weight of 0.1\n",
      "MAP: 0.4136251211166382 for audio weight of 0.2\n",
      "MAP: 0.4498225152492523 for audio weight of 0.30000000000000004\n",
      "MAP: 0.46873387694358826 for audio weight of 0.4\n",
      "MAP: 0.4721739590167999 for audio weight of 0.5\n",
      "MAP: 0.46430814266204834 for audio weight of 0.6\n",
      "MAP: 0.4479917883872986 for audio weight of 0.7000000000000001\n",
      "MAP: 0.42718708515167236 for audio weight of 0.8\n",
      "MAP: 0.4039953052997589 for audio weight of 0.9\n",
      "MAP: 0.46873387694358826 for audio weight of 0.4\n",
      "MAP: 0.46978142857551575 for audio weight of 0.41000000000000003\n",
      "MAP: 0.47065120935440063 for audio weight of 0.42000000000000004\n",
      "MAP: 0.47128501534461975 for audio weight of 0.43000000000000005\n",
      "MAP: 0.47176072001457214 for audio weight of 0.44000000000000006\n",
      "MAP: 0.47213488817214966 for audio weight of 0.45000000000000007\n",
      "MAP: 0.472449392080307 for audio weight of 0.4600000000000001\n",
      "MAP: 0.47255733609199524 for audio weight of 0.4700000000000001\n",
      "MAP: 0.4725513160228729 for audio weight of 0.4800000000000001\n",
      "MAP: 0.47245171666145325 for audio weight of 0.4900000000000001\n",
      "MAP: 0.4721739590167999 for audio weight of 0.5000000000000001\n",
      "MAP: 0.4717623293399811 for audio weight of 0.5100000000000001\n",
      "MAP: 0.4713818430900574 for audio weight of 0.5200000000000001\n",
      "MAP: 0.47075358033180237 for audio weight of 0.5300000000000001\n",
      "MAP: 0.4701254963874817 for audio weight of 0.5400000000000001\n",
      "MAP: 0.4694182276725769 for audio weight of 0.5500000000000002\n",
      "MAP: 0.46864184737205505 for audio weight of 0.5600000000000002\n",
      "MAP: 0.46776583790779114 for audio weight of 0.5700000000000002\n",
      "MAP: 0.4667956829071045 for audio weight of 0.5800000000000002\n",
      "MAP: 0.46548154950141907 for audio weight of 0.5900000000000002\n",
      "MAP: 0.46475720405578613 for audio weight of 0.3700000000000001\n",
      "MAP: 0.46629422903060913 for audio weight of 0.3800000000000001\n",
      "MAP: 0.46753472089767456 for audio weight of 0.3900000000000001\n",
      "MAP: 0.46873387694358826 for audio weight of 0.40000000000000013\n",
      "MAP: 0.46978142857551575 for audio weight of 0.41000000000000014\n",
      "MAP: 0.47065120935440063 for audio weight of 0.42000000000000015\n",
      "MAP: 0.47128501534461975 for audio weight of 0.43000000000000016\n",
      "MAP: 0.47176072001457214 for audio weight of 0.44000000000000017\n",
      "MAP: 0.47213488817214966 for audio weight of 0.4500000000000002\n",
      "MAP: 0.472449392080307 for audio weight of 0.4600000000000002\n",
      "MAP: 0.47255733609199524 for audio weight of 0.4700000000000002\n",
      "MAP: 0.4725513160228729 for audio weight of 0.4800000000000002\n",
      "MAP: 0.47245171666145325 for audio weight of 0.4900000000000002\n",
      "MAP: 0.4721739590167999 for audio weight of 0.5000000000000002\n",
      "MAP: 0.4717623293399811 for audio weight of 0.5100000000000002\n",
      "MAP: 0.4713818430900574 for audio weight of 0.5200000000000002\n",
      "MAP: 0.47075358033180237 for audio weight of 0.5300000000000002\n",
      "MAP: 0.4701254963874817 for audio weight of 0.5400000000000003\n",
      "MAP: 0.4694182276725769 for audio weight of 0.5500000000000003\n",
      "MAP: 0.46864184737205505 for audio weight of 0.5600000000000003\n",
      "Best audio weight: 0.4700000000000001\n",
      "Best MAP: tensor(0.4726, device='cuda:0')\n",
      "cqtnet: audio weight 0.4700000000000001 -- MAP: 0.47255733609199524\n"
     ]
    }
   ],
   "source": [
    "\n",
    "def wu_method(text_preds, audio_preds, tolerance=0.001, shrinkage_factor=0.1):\n",
    "\n",
    "    # Initial values for best parameters\n",
    "    best_i = None\n",
    "    best_map = -1\n",
    "\n",
    "    # First loop\n",
    "    for i in np.arange(0.1, 1, 0.1):\n",
    "        preds = predict(text_preds, audio_preds, i)\n",
    "        map_result = mAP(preds, Y, indexes)\n",
    "\n",
    "        print(f\"MAP: {map_result} for audio weight of {i}\")\n",
    "\n",
    "        # Update best parameters if needed\n",
    "        if map_result > best_map:\n",
    "            best_i = i\n",
    "            best_map = map_result\n",
    "\n",
    "    # Second loop (nested within the first loop)\n",
    "    while True:\n",
    "        # Determine the search range based on shrinkage\n",
    "        search_range = np.arange(max(0.1, best_i - shrinkage_factor), min(1, best_i + shrinkage_factor), shrinkage_factor * 0.1)\n",
    "\n",
    "        found_better = False\n",
    "\n",
    "        for i in search_range:\n",
    "            preds = predict(text_preds, audio_preds, i)\n",
    "            map_result = mAP(preds, Y, indexes)\n",
    "\n",
    "            print(f\"MAP: {map_result} for audio weight of {i}\")\n",
    "\n",
    "            # Update best parameters if needed\n",
    "            if map_result > best_map:\n",
    "                best_i = i\n",
    "                best_map = map_result\n",
    "                found_better = True\n",
    "\n",
    "        # Check the stopping condition based on tolerance\n",
    "        if not found_better or (max(search_range) - min(search_range)) < tolerance:\n",
    "            break\n",
    "    \n",
    "    print(\"Best audio weight:\", best_i)\n",
    "    print(\"Best MAP:\", best_map)\n",
    "    return best_i, best_map\n",
    "\n",
    "    \n",
    "# cqtnet\n",
    "audiomodel = \"cqtnet\"\n",
    "audio_preds = fuzzy_valset.get_csi_pred_matrix(audiomodel)\n",
    "aw, bmap = wu_method(text_preds, audio_preds, tolerance=0.001, shrinkage_factor=0.1)\n",
    "print(f\"{audiomodel}: audio weight {aw} -- MAP: {bmap}\")\n"
   ]
  },
  {
   "cell_type": "markdown",
   "metadata": {},
   "source": [
    "### XGBoost with MAP as Objective Function"
   ]
  },
  {
   "cell_type": "code",
   "execution_count": 15,
   "metadata": {},
   "outputs": [],
   "source": [
    "import numpy as np\n",
    "\n",
    "y_train = Y.cpu().numpy().flatten()\n",
    "X_train = np.concatenate([preds_a.reshape(-1, 1), preds_b.reshape(-1, 1)], axis=1)\n",
    "\n",
    "# get query info array\n",
    "length_sqrt = int(np.sqrt(len(y_train)))\n",
    "group_array = np.full(length_sqrt, np.sqrt(len(y_train)))\n",
    "qids = indexes.cpu().numpy().flatten()\n"
   ]
  },
  {
   "cell_type": "code",
   "execution_count": 16,
   "metadata": {},
   "outputs": [
    {
     "data": {
      "text/html": [
       "<style>#sk-container-id-1 {color: black;}#sk-container-id-1 pre{padding: 0;}#sk-container-id-1 div.sk-toggleable {background-color: white;}#sk-container-id-1 label.sk-toggleable__label {cursor: pointer;display: block;width: 100%;margin-bottom: 0;padding: 0.3em;box-sizing: border-box;text-align: center;}#sk-container-id-1 label.sk-toggleable__label-arrow:before {content: \"▸\";float: left;margin-right: 0.25em;color: #696969;}#sk-container-id-1 label.sk-toggleable__label-arrow:hover:before {color: black;}#sk-container-id-1 div.sk-estimator:hover label.sk-toggleable__label-arrow:before {color: black;}#sk-container-id-1 div.sk-toggleable__content {max-height: 0;max-width: 0;overflow: hidden;text-align: left;background-color: #f0f8ff;}#sk-container-id-1 div.sk-toggleable__content pre {margin: 0.2em;color: black;border-radius: 0.25em;background-color: #f0f8ff;}#sk-container-id-1 input.sk-toggleable__control:checked~div.sk-toggleable__content {max-height: 200px;max-width: 100%;overflow: auto;}#sk-container-id-1 input.sk-toggleable__control:checked~label.sk-toggleable__label-arrow:before {content: \"▾\";}#sk-container-id-1 div.sk-estimator input.sk-toggleable__control:checked~label.sk-toggleable__label {background-color: #d4ebff;}#sk-container-id-1 div.sk-label input.sk-toggleable__control:checked~label.sk-toggleable__label {background-color: #d4ebff;}#sk-container-id-1 input.sk-hidden--visually {border: 0;clip: rect(1px 1px 1px 1px);clip: rect(1px, 1px, 1px, 1px);height: 1px;margin: -1px;overflow: hidden;padding: 0;position: absolute;width: 1px;}#sk-container-id-1 div.sk-estimator {font-family: monospace;background-color: #f0f8ff;border: 1px dotted black;border-radius: 0.25em;box-sizing: border-box;margin-bottom: 0.5em;}#sk-container-id-1 div.sk-estimator:hover {background-color: #d4ebff;}#sk-container-id-1 div.sk-parallel-item::after {content: \"\";width: 100%;border-bottom: 1px solid gray;flex-grow: 1;}#sk-container-id-1 div.sk-label:hover label.sk-toggleable__label {background-color: #d4ebff;}#sk-container-id-1 div.sk-serial::before {content: \"\";position: absolute;border-left: 1px solid gray;box-sizing: border-box;top: 0;bottom: 0;left: 50%;z-index: 0;}#sk-container-id-1 div.sk-serial {display: flex;flex-direction: column;align-items: center;background-color: white;padding-right: 0.2em;padding-left: 0.2em;position: relative;}#sk-container-id-1 div.sk-item {position: relative;z-index: 1;}#sk-container-id-1 div.sk-parallel {display: flex;align-items: stretch;justify-content: center;background-color: white;position: relative;}#sk-container-id-1 div.sk-item::before, #sk-container-id-1 div.sk-parallel-item::before {content: \"\";position: absolute;border-left: 1px solid gray;box-sizing: border-box;top: 0;bottom: 0;left: 50%;z-index: -1;}#sk-container-id-1 div.sk-parallel-item {display: flex;flex-direction: column;z-index: 1;position: relative;background-color: white;}#sk-container-id-1 div.sk-parallel-item:first-child::after {align-self: flex-end;width: 50%;}#sk-container-id-1 div.sk-parallel-item:last-child::after {align-self: flex-start;width: 50%;}#sk-container-id-1 div.sk-parallel-item:only-child::after {width: 0;}#sk-container-id-1 div.sk-dashed-wrapped {border: 1px dashed gray;margin: 0 0.4em 0.5em 0.4em;box-sizing: border-box;padding-bottom: 0.4em;background-color: white;}#sk-container-id-1 div.sk-label label {font-family: monospace;font-weight: bold;display: inline-block;line-height: 1.2em;}#sk-container-id-1 div.sk-label-container {text-align: center;}#sk-container-id-1 div.sk-container {/* jupyter's `normalize.less` sets `[hidden] { display: none; }` but bootstrap.min.css set `[hidden] { display: none !important; }` so we also need the `!important` here to be able to override the default hidden behavior on the sphinx rendered scikit-learn.org. See: https://github.com/scikit-learn/scikit-learn/issues/21755 */display: inline-block !important;position: relative;}#sk-container-id-1 div.sk-text-repr-fallback {display: none;}</style><div id=\"sk-container-id-1\" class=\"sk-top-container\"><div class=\"sk-text-repr-fallback\"><pre>XGBRanker(base_score=None, booster=None, callbacks=None, colsample_bylevel=None,\n",
       "          colsample_bynode=None, colsample_bytree=None, device=None,\n",
       "          early_stopping_rounds=None, enable_categorical=False,\n",
       "          eval_metric=None, feature_types=None, gamma=None, grow_policy=None,\n",
       "          importance_type=None, interaction_constraints=None,\n",
       "          learning_rate=None, max_bin=None, max_cat_threshold=None,\n",
       "          max_cat_to_onehot=None, max_delta_step=None, max_depth=None,\n",
       "          max_leaves=None, min_child_weight=None, missing=nan,\n",
       "          monotone_constraints=None, multi_strategy=None, n_estimators=None,\n",
       "          n_jobs=None, num_parallel_tree=None, random_state=None, ...)</pre><b>In a Jupyter environment, please rerun this cell to show the HTML representation or trust the notebook. <br />On GitHub, the HTML representation is unable to render, please try loading this page with nbviewer.org.</b></div><div class=\"sk-container\" hidden><div class=\"sk-item\"><div class=\"sk-estimator sk-toggleable\"><input class=\"sk-toggleable__control sk-hidden--visually\" id=\"sk-estimator-id-1\" type=\"checkbox\" checked><label for=\"sk-estimator-id-1\" class=\"sk-toggleable__label sk-toggleable__label-arrow\">XGBRanker</label><div class=\"sk-toggleable__content\"><pre>XGBRanker(base_score=None, booster=None, callbacks=None, colsample_bylevel=None,\n",
       "          colsample_bynode=None, colsample_bytree=None, device=None,\n",
       "          early_stopping_rounds=None, enable_categorical=False,\n",
       "          eval_metric=None, feature_types=None, gamma=None, grow_policy=None,\n",
       "          importance_type=None, interaction_constraints=None,\n",
       "          learning_rate=None, max_bin=None, max_cat_threshold=None,\n",
       "          max_cat_to_onehot=None, max_delta_step=None, max_depth=None,\n",
       "          max_leaves=None, min_child_weight=None, missing=nan,\n",
       "          monotone_constraints=None, multi_strategy=None, n_estimators=None,\n",
       "          n_jobs=None, num_parallel_tree=None, random_state=None, ...)</pre></div></div></div></div></div>"
      ],
      "text/plain": [
       "XGBRanker(base_score=None, booster=None, callbacks=None, colsample_bylevel=None,\n",
       "          colsample_bynode=None, colsample_bytree=None, device=None,\n",
       "          early_stopping_rounds=None, enable_categorical=False,\n",
       "          eval_metric=None, feature_types=None, gamma=None, grow_policy=None,\n",
       "          importance_type=None, interaction_constraints=None,\n",
       "          learning_rate=None, max_bin=None, max_cat_threshold=None,\n",
       "          max_cat_to_onehot=None, max_delta_step=None, max_depth=None,\n",
       "          max_leaves=None, min_child_weight=None, missing=nan,\n",
       "          monotone_constraints=None, multi_strategy=None, n_estimators=None,\n",
       "          n_jobs=None, num_parallel_tree=None, random_state=None, ...)"
      ]
     },
     "execution_count": 16,
     "metadata": {},
     "output_type": "execute_result"
    }
   ],
   "source": [
    "import xgboost as xgb\n",
    "\n",
    "model = xgb.XGBRanker(objective=\"rank:map\")\n",
    "model.fit(X_train, y_train, qid=qids)\n",
    "\n"
   ]
  },
  {
   "cell_type": "code",
   "execution_count": 24,
   "metadata": {},
   "outputs": [
    {
     "data": {
      "text/html": [
       "<style>#sk-container-id-4 {color: black;}#sk-container-id-4 pre{padding: 0;}#sk-container-id-4 div.sk-toggleable {background-color: white;}#sk-container-id-4 label.sk-toggleable__label {cursor: pointer;display: block;width: 100%;margin-bottom: 0;padding: 0.3em;box-sizing: border-box;text-align: center;}#sk-container-id-4 label.sk-toggleable__label-arrow:before {content: \"▸\";float: left;margin-right: 0.25em;color: #696969;}#sk-container-id-4 label.sk-toggleable__label-arrow:hover:before {color: black;}#sk-container-id-4 div.sk-estimator:hover label.sk-toggleable__label-arrow:before {color: black;}#sk-container-id-4 div.sk-toggleable__content {max-height: 0;max-width: 0;overflow: hidden;text-align: left;background-color: #f0f8ff;}#sk-container-id-4 div.sk-toggleable__content pre {margin: 0.2em;color: black;border-radius: 0.25em;background-color: #f0f8ff;}#sk-container-id-4 input.sk-toggleable__control:checked~div.sk-toggleable__content {max-height: 200px;max-width: 100%;overflow: auto;}#sk-container-id-4 input.sk-toggleable__control:checked~label.sk-toggleable__label-arrow:before {content: \"▾\";}#sk-container-id-4 div.sk-estimator input.sk-toggleable__control:checked~label.sk-toggleable__label {background-color: #d4ebff;}#sk-container-id-4 div.sk-label input.sk-toggleable__control:checked~label.sk-toggleable__label {background-color: #d4ebff;}#sk-container-id-4 input.sk-hidden--visually {border: 0;clip: rect(1px 1px 1px 1px);clip: rect(1px, 1px, 1px, 1px);height: 1px;margin: -1px;overflow: hidden;padding: 0;position: absolute;width: 1px;}#sk-container-id-4 div.sk-estimator {font-family: monospace;background-color: #f0f8ff;border: 1px dotted black;border-radius: 0.25em;box-sizing: border-box;margin-bottom: 0.5em;}#sk-container-id-4 div.sk-estimator:hover {background-color: #d4ebff;}#sk-container-id-4 div.sk-parallel-item::after {content: \"\";width: 100%;border-bottom: 1px solid gray;flex-grow: 1;}#sk-container-id-4 div.sk-label:hover label.sk-toggleable__label {background-color: #d4ebff;}#sk-container-id-4 div.sk-serial::before {content: \"\";position: absolute;border-left: 1px solid gray;box-sizing: border-box;top: 0;bottom: 0;left: 50%;z-index: 0;}#sk-container-id-4 div.sk-serial {display: flex;flex-direction: column;align-items: center;background-color: white;padding-right: 0.2em;padding-left: 0.2em;position: relative;}#sk-container-id-4 div.sk-item {position: relative;z-index: 1;}#sk-container-id-4 div.sk-parallel {display: flex;align-items: stretch;justify-content: center;background-color: white;position: relative;}#sk-container-id-4 div.sk-item::before, #sk-container-id-4 div.sk-parallel-item::before {content: \"\";position: absolute;border-left: 1px solid gray;box-sizing: border-box;top: 0;bottom: 0;left: 50%;z-index: -1;}#sk-container-id-4 div.sk-parallel-item {display: flex;flex-direction: column;z-index: 1;position: relative;background-color: white;}#sk-container-id-4 div.sk-parallel-item:first-child::after {align-self: flex-end;width: 50%;}#sk-container-id-4 div.sk-parallel-item:last-child::after {align-self: flex-start;width: 50%;}#sk-container-id-4 div.sk-parallel-item:only-child::after {width: 0;}#sk-container-id-4 div.sk-dashed-wrapped {border: 1px dashed gray;margin: 0 0.4em 0.5em 0.4em;box-sizing: border-box;padding-bottom: 0.4em;background-color: white;}#sk-container-id-4 div.sk-label label {font-family: monospace;font-weight: bold;display: inline-block;line-height: 1.2em;}#sk-container-id-4 div.sk-label-container {text-align: center;}#sk-container-id-4 div.sk-container {/* jupyter's `normalize.less` sets `[hidden] { display: none; }` but bootstrap.min.css set `[hidden] { display: none !important; }` so we also need the `!important` here to be able to override the default hidden behavior on the sphinx rendered scikit-learn.org. See: https://github.com/scikit-learn/scikit-learn/issues/21755 */display: inline-block !important;position: relative;}#sk-container-id-4 div.sk-text-repr-fallback {display: none;}</style><div id=\"sk-container-id-4\" class=\"sk-top-container\"><div class=\"sk-text-repr-fallback\"><pre>XGBRanker(base_score=None, booster=None, callbacks=None, colsample_bylevel=None,\n",
       "          colsample_bynode=None, colsample_bytree=None, device=None,\n",
       "          early_stopping_rounds=None, enable_categorical=False,\n",
       "          eval_metric=None, feature_types=None, gamma=None, grow_policy=None,\n",
       "          importance_type=None, interaction_constraints=None,\n",
       "          learning_rate=None, max_bin=None, max_cat_threshold=None,\n",
       "          max_cat_to_onehot=None, max_delta_step=None, max_depth=None,\n",
       "          max_leaves=None, min_child_weight=None, missing=nan,\n",
       "          monotone_constraints=None, multi_strategy=None, n_estimators=None,\n",
       "          n_jobs=None, num_parallel_tree=None, objective=&#x27;rank:map&#x27;, ...)</pre><b>In a Jupyter environment, please rerun this cell to show the HTML representation or trust the notebook. <br />On GitHub, the HTML representation is unable to render, please try loading this page with nbviewer.org.</b></div><div class=\"sk-container\" hidden><div class=\"sk-item\"><div class=\"sk-estimator sk-toggleable\"><input class=\"sk-toggleable__control sk-hidden--visually\" id=\"sk-estimator-id-4\" type=\"checkbox\" checked><label for=\"sk-estimator-id-4\" class=\"sk-toggleable__label sk-toggleable__label-arrow\">XGBRanker</label><div class=\"sk-toggleable__content\"><pre>XGBRanker(base_score=None, booster=None, callbacks=None, colsample_bylevel=None,\n",
       "          colsample_bynode=None, colsample_bytree=None, device=None,\n",
       "          early_stopping_rounds=None, enable_categorical=False,\n",
       "          eval_metric=None, feature_types=None, gamma=None, grow_policy=None,\n",
       "          importance_type=None, interaction_constraints=None,\n",
       "          learning_rate=None, max_bin=None, max_cat_threshold=None,\n",
       "          max_cat_to_onehot=None, max_delta_step=None, max_depth=None,\n",
       "          max_leaves=None, min_child_weight=None, missing=nan,\n",
       "          monotone_constraints=None, multi_strategy=None, n_estimators=None,\n",
       "          n_jobs=None, num_parallel_tree=None, objective=&#x27;rank:map&#x27;, ...)</pre></div></div></div></div></div>"
      ],
      "text/plain": [
       "XGBRanker(base_score=None, booster=None, callbacks=None, colsample_bylevel=None,\n",
       "          colsample_bynode=None, colsample_bytree=None, device=None,\n",
       "          early_stopping_rounds=None, enable_categorical=False,\n",
       "          eval_metric=None, feature_types=None, gamma=None, grow_policy=None,\n",
       "          importance_type=None, interaction_constraints=None,\n",
       "          learning_rate=None, max_bin=None, max_cat_threshold=None,\n",
       "          max_cat_to_onehot=None, max_delta_step=None, max_depth=None,\n",
       "          max_leaves=None, min_child_weight=None, missing=nan,\n",
       "          monotone_constraints=None, multi_strategy=None, n_estimators=None,\n",
       "          n_jobs=None, num_parallel_tree=None, objective='rank:map', ...)"
      ]
     },
     "execution_count": 24,
     "metadata": {},
     "output_type": "execute_result"
    }
   ],
   "source": [
    "model2 = xgb.XGBRanker(objective=\"rank:map\")\n",
    "model2.fit(X_train, y_train, qid=qids)\n"
   ]
  },
  {
   "cell_type": "code",
   "execution_count": 33,
   "metadata": {},
   "outputs": [
    {
     "name": "stdout",
     "output_type": "stream",
     "text": [
      "MAP: 0.8988904356956482\n"
     ]
    }
   ],
   "source": [
    "preds_ltr = model2.predict(X_train)\n",
    "n = len(preds_ltr)\n",
    "matrix_size = int(np.sqrt(n))\n",
    "\n",
    "# Reshape the flattened array to the unflattened square matrix\n",
    "preds_ltr = preds_ltr.reshape((matrix_size, matrix_size))\n",
    "\n",
    "preds_norm = (preds_ltr - np.min(preds_ltr)) / (np.max(preds_ltr) - np.min(preds_ltr))\n",
    "\n",
    "map_result = mAP(torch.tensor(preds_norm), Y.cpu(), indexes.cpu())\n",
    "print(f\"MAP: {map_result}\")\n",
    "\n"
   ]
  },
  {
   "cell_type": "markdown",
   "metadata": {},
   "source": [
    "### LambdaMART\n"
   ]
  },
  {
   "cell_type": "code",
   "execution_count": 102,
   "metadata": {},
   "outputs": [],
   "source": []
  },
  {
   "cell_type": "code",
   "execution_count": 114,
   "metadata": {},
   "outputs": [
    {
     "name": "stdout",
     "output_type": "stream",
     "text": [
      "[LightGBM] [Warning] feature_fraction is set=0.9, colsample_bytree=1.0 will be ignored. Current value: feature_fraction=0.9\n",
      "[LightGBM] [Warning] bagging_fraction is set=0.8, subsample=1.0 will be ignored. Current value: bagging_fraction=0.8\n",
      "[LightGBM] [Warning] bagging_freq is set=5, subsample_freq=0 will be ignored. Current value: bagging_freq=5\n",
      "[LightGBM] [Warning] feature_fraction is set=0.9, colsample_bytree=1.0 will be ignored. Current value: feature_fraction=0.9\n",
      "[LightGBM] [Warning] bagging_fraction is set=0.8, subsample=1.0 will be ignored. Current value: bagging_fraction=0.8\n",
      "[LightGBM] [Warning] bagging_freq is set=5, subsample_freq=0 will be ignored. Current value: bagging_freq=5\n"
     ]
    },
    {
     "data": {
      "text/html": [
       "<style>#sk-container-id-7 {color: black;}#sk-container-id-7 pre{padding: 0;}#sk-container-id-7 div.sk-toggleable {background-color: white;}#sk-container-id-7 label.sk-toggleable__label {cursor: pointer;display: block;width: 100%;margin-bottom: 0;padding: 0.3em;box-sizing: border-box;text-align: center;}#sk-container-id-7 label.sk-toggleable__label-arrow:before {content: \"▸\";float: left;margin-right: 0.25em;color: #696969;}#sk-container-id-7 label.sk-toggleable__label-arrow:hover:before {color: black;}#sk-container-id-7 div.sk-estimator:hover label.sk-toggleable__label-arrow:before {color: black;}#sk-container-id-7 div.sk-toggleable__content {max-height: 0;max-width: 0;overflow: hidden;text-align: left;background-color: #f0f8ff;}#sk-container-id-7 div.sk-toggleable__content pre {margin: 0.2em;color: black;border-radius: 0.25em;background-color: #f0f8ff;}#sk-container-id-7 input.sk-toggleable__control:checked~div.sk-toggleable__content {max-height: 200px;max-width: 100%;overflow: auto;}#sk-container-id-7 input.sk-toggleable__control:checked~label.sk-toggleable__label-arrow:before {content: \"▾\";}#sk-container-id-7 div.sk-estimator input.sk-toggleable__control:checked~label.sk-toggleable__label {background-color: #d4ebff;}#sk-container-id-7 div.sk-label input.sk-toggleable__control:checked~label.sk-toggleable__label {background-color: #d4ebff;}#sk-container-id-7 input.sk-hidden--visually {border: 0;clip: rect(1px 1px 1px 1px);clip: rect(1px, 1px, 1px, 1px);height: 1px;margin: -1px;overflow: hidden;padding: 0;position: absolute;width: 1px;}#sk-container-id-7 div.sk-estimator {font-family: monospace;background-color: #f0f8ff;border: 1px dotted black;border-radius: 0.25em;box-sizing: border-box;margin-bottom: 0.5em;}#sk-container-id-7 div.sk-estimator:hover {background-color: #d4ebff;}#sk-container-id-7 div.sk-parallel-item::after {content: \"\";width: 100%;border-bottom: 1px solid gray;flex-grow: 1;}#sk-container-id-7 div.sk-label:hover label.sk-toggleable__label {background-color: #d4ebff;}#sk-container-id-7 div.sk-serial::before {content: \"\";position: absolute;border-left: 1px solid gray;box-sizing: border-box;top: 0;bottom: 0;left: 50%;z-index: 0;}#sk-container-id-7 div.sk-serial {display: flex;flex-direction: column;align-items: center;background-color: white;padding-right: 0.2em;padding-left: 0.2em;position: relative;}#sk-container-id-7 div.sk-item {position: relative;z-index: 1;}#sk-container-id-7 div.sk-parallel {display: flex;align-items: stretch;justify-content: center;background-color: white;position: relative;}#sk-container-id-7 div.sk-item::before, #sk-container-id-7 div.sk-parallel-item::before {content: \"\";position: absolute;border-left: 1px solid gray;box-sizing: border-box;top: 0;bottom: 0;left: 50%;z-index: -1;}#sk-container-id-7 div.sk-parallel-item {display: flex;flex-direction: column;z-index: 1;position: relative;background-color: white;}#sk-container-id-7 div.sk-parallel-item:first-child::after {align-self: flex-end;width: 50%;}#sk-container-id-7 div.sk-parallel-item:last-child::after {align-self: flex-start;width: 50%;}#sk-container-id-7 div.sk-parallel-item:only-child::after {width: 0;}#sk-container-id-7 div.sk-dashed-wrapped {border: 1px dashed gray;margin: 0 0.4em 0.5em 0.4em;box-sizing: border-box;padding-bottom: 0.4em;background-color: white;}#sk-container-id-7 div.sk-label label {font-family: monospace;font-weight: bold;display: inline-block;line-height: 1.2em;}#sk-container-id-7 div.sk-label-container {text-align: center;}#sk-container-id-7 div.sk-container {/* jupyter's `normalize.less` sets `[hidden] { display: none; }` but bootstrap.min.css set `[hidden] { display: none !important; }` so we also need the `!important` here to be able to override the default hidden behavior on the sphinx rendered scikit-learn.org. See: https://github.com/scikit-learn/scikit-learn/issues/21755 */display: inline-block !important;position: relative;}#sk-container-id-7 div.sk-text-repr-fallback {display: none;}</style><div id=\"sk-container-id-7\" class=\"sk-top-container\"><div class=\"sk-text-repr-fallback\"><pre>LGBMRanker(bagging_fraction=0.8, bagging_freq=5, feature_fraction=0.9,\n",
       "           learning_rate=0.05, metric=&#x27;ndcg&#x27;, objective=&#x27;lambdarank&#x27;,\n",
       "           verbose=0)</pre><b>In a Jupyter environment, please rerun this cell to show the HTML representation or trust the notebook. <br />On GitHub, the HTML representation is unable to render, please try loading this page with nbviewer.org.</b></div><div class=\"sk-container\" hidden><div class=\"sk-item\"><div class=\"sk-estimator sk-toggleable\"><input class=\"sk-toggleable__control sk-hidden--visually\" id=\"sk-estimator-id-7\" type=\"checkbox\" checked><label for=\"sk-estimator-id-7\" class=\"sk-toggleable__label sk-toggleable__label-arrow\">LGBMRanker</label><div class=\"sk-toggleable__content\"><pre>LGBMRanker(bagging_fraction=0.8, bagging_freq=5, feature_fraction=0.9,\n",
       "           learning_rate=0.05, metric=&#x27;ndcg&#x27;, objective=&#x27;lambdarank&#x27;,\n",
       "           verbose=0)</pre></div></div></div></div></div>"
      ],
      "text/plain": [
       "LGBMRanker(bagging_fraction=0.8, bagging_freq=5, feature_fraction=0.9,\n",
       "           learning_rate=0.05, metric='ndcg', objective='lambdarank',\n",
       "           verbose=0)"
      ]
     },
     "execution_count": 114,
     "metadata": {},
     "output_type": "execute_result"
    }
   ],
   "source": [
    "import lightgbm as lgb\n",
    "\n",
    "lambdamart_params = {\n",
    "    'boosting_type': 'gbdt',\n",
    "    'objective': 'lambdarank',\n",
    "    'metric': 'map',\n",
    "    'num_leaves': 31,\n",
    "    'learning_rate': 0.05,\n",
    "    'feature_fraction': 0.9,\n",
    "    'bagging_fraction': 0.8,\n",
    "    'bagging_freq': 5,\n",
    "    'verbose': 0\n",
    "}\n",
    "\n",
    "ranker = lgb.LGBMRanker(**lambdamart_params)\n",
    "                    #label_gain =[i for i in range(max(y_train.max(), y_test.max()) + 1)])\n",
    "\n",
    "# Training the model\n",
    "ranker.fit(\n",
    "      X=X_train,\n",
    "      y=y_train,\n",
    "      group=group_array,\n",
    "      eval_set=[(X_train, y_train)],\n",
    "      eval_group=[group_array],\n",
    "      eval_at=[4, 8])\n",
    "\n"
   ]
  },
  {
   "cell_type": "code",
   "execution_count": 108,
   "metadata": {},
   "outputs": [
    {
     "data": {
      "text/plain": [
       "<Axes: title={'center': 'Feature importance'}, xlabel='Feature importance', ylabel='Features'>"
      ]
     },
     "execution_count": 108,
     "metadata": {},
     "output_type": "execute_result"
    },
    {
     "data": {
      "image/png": "[encoded data removed]",
      "text/plain": [
       "<Figure size 1200x800 with 1 Axes>"
      ]
     },
     "metadata": {},
     "output_type": "display_data"
    }
   ],
   "source": [
    "lgbm.plot_importance(ranker, figsize = (12,8))\n"
   ]
  },
  {
   "cell_type": "code",
   "execution_count": 88,
   "metadata": {},
   "outputs": [
    {
     "data": {
      "text/plain": [
       "array([8819., 8819., 8819., ..., 8819., 8819., 8819.])"
      ]
     },
     "execution_count": 88,
     "metadata": {},
     "output_type": "execute_result"
    }
   ],
   "source": [
    "result_array"
   ]
  },
  {
   "cell_type": "code",
   "execution_count": 29,
   "metadata": {},
   "outputs": [
    {
     "data": {
      "text/plain": [
       "True"
      ]
     },
     "execution_count": 29,
     "metadata": {},
     "output_type": "execute_result"
    }
   ],
   "source": [
    "np.nan_to_num(float('-inf')) "
   ]
  },
  {
   "cell_type": "markdown",
   "metadata": {},
   "source": [
    "# S-BERT"
   ]
  },
  {
   "cell_type": "code",
   "execution_count": 38,
   "metadata": {},
   "outputs": [],
   "source": [
    "dataset_name = \"shs100k2_val\"\n",
    "sbert_valset = OnlineCoverSongDataset(\n",
    "        dataset_name,\n",
    "        \"/data/csi_datasets/\",\n",
    "        \"/data/yt_metadata.parquet\",\n",
    "        \"tvShort\"\n",
    ")  \n",
    "\n",
    "\n",
    "# get audio preds\n",
    "audio_preds = sbert_valset.get_csi_pred_matrix(\"coverhunter\").to(\"cuda\")\n",
    "\n",
    "\n",
    "# get text preds\n",
    "text_preds = torch.load(f\"preds/sentence-transformers/{dataset_name}/preds.pt\")\n",
    "text_preds = text_preds.fill_diagonal_(0)\n",
    "text_preds\n",
    "\n",
    "# get ground truth\n",
    "Y = sbert_valset.get_target_matrix().to(float).to(\"cuda\")\n",
    "\n",
    "m, n = Y.shape\n",
    "indexes = torch.arange(m).view(-1, 1).expand(-1, n).to(\"cuda\")\n",
    "\n"
   ]
  },
  {
   "cell_type": "code",
   "execution_count": 39,
   "metadata": {},
   "outputs": [
    {
     "name": "stdout",
     "output_type": "stream",
     "text": [
      "MAP: 0.824760913848877 for audio weight of 0.1\n",
      "MAP: 0.8403883576393127 for audio weight of 0.2\n",
      "MAP: 0.8586575984954834 for audio weight of 0.30000000000000004\n",
      "MAP: 0.8782891035079956 for audio weight of 0.4\n",
      "MAP: 0.9014644026756287 for audio weight of 0.5\n",
      "MAP: 0.9287620186805725 for audio weight of 0.6\n",
      "MAP: 0.9586793780326843 for audio weight of 0.7000000000000001\n",
      "MAP: 0.9774288535118103 for audio weight of 0.8\n",
      "MAP: 0.9749596118927002 for audio weight of 0.9\n"
     ]
    }
   ],
   "source": [
    "for i in np.arange(0.1, 1, 0.1):\n",
    "    preds = predict(text_preds, audio_preds, i)\n",
    "    map_result = mAP(preds, Y, indexes)\n",
    "    print(f\"MAP: {map_result} for audio weight of {i}\")\n",
    "\n"
   ]
  }
 ],
 "metadata": {
  "kernelspec": {
   "display_name": "torch21",
   "language": "python",
   "name": "python3"
  },
  "language_info": {
   "codemirror_mode": {
    "name": "ipython",
    "version": 3
   },
   "file_extension": ".py",
   "mimetype": "text/x-python",
   "name": "python",
   "nbconvert_exporter": "python",
   "pygments_lexer": "ipython3",
   "version": "3.11.5"
  }
 },
 "nbformat": 4,
 "nbformat_minor": 2
}
